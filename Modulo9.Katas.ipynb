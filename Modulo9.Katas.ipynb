{
 "cells": [
  {
   "cell_type": "markdown",
   "metadata": {},
   "source": [
    "## EJERCICIO. Uso de Funciones en Python.\n",
    "Ejercicio 1: Trabajar  con argumentos en funciones."
   ]
  },
  {
   "cell_type": "code",
   "execution_count": 9,
   "metadata": {},
   "outputs": [],
   "source": [
    "# Función para leer 3 tanques de combustible y muestre el promedio.\n",
    "\n",
    "def Tank(Tank1,Tank2,Tank3):\n",
    "    AverageTank = (Tank1 + Tank2 + Tank3) / 3\n",
    "    return f\"\"\" Reporte de Tanques de Combustible:\n",
    "    Promedio de los Tanques: {AverageTank}%\n",
    "    Tanque 1: {Tank1}%\n",
    "    Tanque 2: {Tank2}%\n",
    "    Tanque 3: {Tank3}%\n",
    "    \"\"\"\n"
   ]
  },
  {
   "cell_type": "code",
   "execution_count": 10,
   "metadata": {},
   "outputs": [
    {
     "name": "stdout",
     "output_type": "stream",
     "text": [
      " Reporte de Tanques de Combustible:\n",
      "    Promedio de los Tanques: 78.33333333333333%\n",
      "    Tanque 1: 80%\n",
      "    Tanque 2: 70%\n",
      "    Tanque 3: 85%\n",
      "    \n"
     ]
    }
   ],
   "source": [
    "# Llamamos a la función que genera el reporte print(funcion(tanque1,tanque2,tanque3))\n",
    "\n",
    "print(Tank(80,70,85))"
   ]
  },
  {
   "cell_type": "code",
   "execution_count": 29,
   "metadata": {},
   "outputs": [
    {
     "data": {
      "text/plain": [
       "82.0"
      ]
     },
     "execution_count": 29,
     "metadata": {},
     "output_type": "execute_result"
    }
   ],
   "source": [
    "# Función Promedio.\n",
    "\n",
    "def Average(values):\n",
    "    Total = sum(values)\n",
    "    number_of_items = len(values)\n",
    "    return Total / number_of_items\n",
    "Average([80, 85, 81])"
   ]
  },
  {
   "cell_type": "code",
   "execution_count": 31,
   "metadata": {},
   "outputs": [
    {
     "name": "stdout",
     "output_type": "stream",
     "text": [
      "Reporte de Tanques de Combustible:\n",
      "    Promedio de los Tanques: 78.0%\n",
      "    Tanque 1: 88%\n",
      "    Tanque 2: 76%\n",
      "    Tanque 3: 70%\n",
      "    \n"
     ]
    }
   ],
   "source": [
    "# Actualiza la función\n",
    "\n",
    "def Tank(Tank1,Tank2,Tank3):\n",
    "    return f\"\"\"Reporte de Tanques de Combustible:\n",
    "    Promedio de los Tanques: {Average([Tank1, Tank2, Tank3])}%\n",
    "    Tanque 1: {Tank1}%\n",
    "    Tanque 2: {Tank2}%\n",
    "    Tanque 3: {Tank3}%\n",
    "    \"\"\"\n",
    "print(Tank(88,76,70))"
   ]
  },
  {
   "cell_type": "markdown",
   "metadata": {},
   "source": [
    "## EJERCICIO 2. Trabajo con Argumentos de Palabra Clave.\n",
    "Ejercicio. Trabajar con argumentos de palabras clave en funciones."
   ]
  },
  {
   "cell_type": "code",
   "execution_count": 35,
   "metadata": {},
   "outputs": [
    {
     "name": "stdout",
     "output_type": "stream",
     "text": [
      "\n",
      "    Misión hacia Luna\n",
      "    Tiempo de viaje: 65 minutos.\n",
      "    Combustible restante: 100000 galones.\n",
      "    \n"
     ]
    }
   ],
   "source": [
    "# Función con un informe preciso de la misión. Considera hora de prelanzamiento, tiempo de vuelo, destino, tanque externo y tanque interno.\n",
    "\n",
    "def informe(prelaunch,flight,destino,TankExt,TankInt):\n",
    "    return f\"\"\"\n",
    "    Misión hacia {destino}\n",
    "    Tiempo de viaje: {prelaunch + flight} minutos.\n",
    "    Combustible restante: {abs(TankExt - TankInt)} galones.\n",
    "    \"\"\"\n",
    "print(informe(14,51,\"Luna\", 200000, 300000))"
   ]
  },
  {
   "cell_type": "code",
   "execution_count": 36,
   "metadata": {},
   "outputs": [
    {
     "name": "stdout",
     "output_type": "stream",
     "text": [
      "\n",
      "    Misión hacia Luna\n",
      "    Tiempo de viaje: 76 minutos.\n",
      "    Combustible restante: 500000 galones.\n",
      "    \n"
     ]
    }
   ],
   "source": [
    "# Escribe tu nueva función de reporte considerando lo anterior.\n",
    "\n",
    "def informe(destino, *minutes, **fuel_reservoirs):\n",
    "    return f\"\"\"\n",
    "    Misión hacia {destino}\n",
    "    Tiempo de viaje: {sum(minutes)} minutos.\n",
    "    Combustible restante: {sum(fuel_reservoirs.values())} galones.\n",
    "    \"\"\"\n",
    "\n",
    "print(informe(\"Luna\", 10, 15, 51, TankInterno=300000, TankExterno=200000))"
   ]
  },
  {
   "cell_type": "code",
   "execution_count": 40,
   "metadata": {},
   "outputs": [
    {
     "name": "stdout",
     "output_type": "stream",
     "text": [
      "\n",
      "    Misión hacia Luna\n",
      "    Tiempo de Viaje: 74 minutos.\n",
      "    Combustible Restante: 500000\n",
      "    Tanque Interno : 300000 galones restantes\n",
      "Tanque Externo : 200000 galones restantes\n",
      "\n"
     ]
    }
   ],
   "source": [
    "# Escribe tu nueva función\n",
    "\n",
    "def informe(destino, *minutes, **fuel_reservoirs):\n",
    "    main_report = f\"\"\"\n",
    "    Misión hacia {destino}\n",
    "    Tiempo de Viaje: {sum(minutes)} minutos.\n",
    "    Combustible Restante: {sum(fuel_reservoirs.values())}\n",
    "    \"\"\"\n",
    "    for name, gal in fuel_reservoirs.items():\n",
    "        main_report += f\"Tanque {name} : {gal} galones restantes\\n\"\n",
    "    return main_report\n",
    "\n",
    "print(informe(\"Luna\", 8, 11, 55, Interno=300000, Externo=200000))"
   ]
  }
 ],
 "metadata": {
  "interpreter": {
   "hash": "f09ecc6bc7a1d873317013dce4d029e38d9bae658824941d819d3d76f786f9e7"
  },
  "kernelspec": {
   "display_name": "Python 3.10.2 64-bit",
   "language": "python",
   "name": "python3"
  },
  "language_info": {
   "codemirror_mode": {
    "name": "ipython",
    "version": 3
   },
   "file_extension": ".py",
   "mimetype": "text/x-python",
   "name": "python",
   "nbconvert_exporter": "python",
   "pygments_lexer": "ipython3",
   "version": "3.10.2"
  },
  "orig_nbformat": 4
 },
 "nbformat": 4,
 "nbformat_minor": 2
}
