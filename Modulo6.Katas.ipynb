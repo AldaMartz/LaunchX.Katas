{
 "cells": [
  {
   "cell_type": "markdown",
   "metadata": {},
   "source": [
    "## Ejercicio 1. Crear y Usar Listas de Python.\n",
    "Ejercicio: Usar listas para almacenar nombres de planetas"
   ]
  },
  {
   "cell_type": "code",
   "execution_count": 3,
   "metadata": {},
   "outputs": [
    {
     "name": "stdout",
     "output_type": "stream",
     "text": [
      "Planetas en lista:  8\n"
     ]
    }
   ],
   "source": [
    "# Creamos la lista planets y la mostramos.\n",
    "\n",
    "Planets = ['Mercury','Venus','Earth','Mars','Jupiter','Saturn','Uranus','Neptune']\n",
    "print(\"Planetas en lista: \", len(Planets))"
   ]
  },
  {
   "cell_type": "code",
   "execution_count": 4,
   "metadata": {},
   "outputs": [
    {
     "name": "stdout",
     "output_type": "stream",
     "text": [
      "Planetas en Lista: 9\n",
      "Último elemento agregado: Pluto\n"
     ]
    }
   ],
   "source": [
    "# Agregamos a Pluton y mostramos el último elemento.\n",
    "\n",
    "Planets.append('Pluto')\n",
    "print(f\"Planetas en Lista: {len(Planets)}\")\n",
    "print(f\"Último elemento agregado: {Planets[-1]}\")"
   ]
  },
  {
   "cell_type": "markdown",
   "metadata": {},
   "source": [
    "## Ejercicio 2. Trabajando con datos de una lista.\n",
    "Usar slices para recuperar partes de una lista."
   ]
  },
  {
   "cell_type": "code",
   "execution_count": 5,
   "metadata": {},
   "outputs": [],
   "source": [
    "# Lista de Planetas\n",
    "\n",
    "Planets = ['Mercury','Venus','Earth','Mars','Jupiter','Saturn','Uranus','Neptune']"
   ]
  },
  {
   "cell_type": "code",
   "execution_count": 6,
   "metadata": {},
   "outputs": [],
   "source": [
    "# Solicitamos el Nombre de un Planeta\n",
    "\n",
    "PlanetaBusc = input(\"Ingrese en nombre de un planeta (empezando con mayúscula): \")\n"
   ]
  },
  {
   "cell_type": "code",
   "execution_count": 7,
   "metadata": {},
   "outputs": [],
   "source": [
    "# Busca el Planeta en la Lista\n",
    "\n",
    "Answer = Planets.index(PlanetaBusc)"
   ]
  },
  {
   "cell_type": "code",
   "execution_count": 12,
   "metadata": {},
   "outputs": [
    {
     "name": "stdout",
     "output_type": "stream",
     "text": [
      "Planetas más cercanos al sol que Venus: ['Mercury'].\n"
     ]
    }
   ],
   "source": [
    "# Muestra los Planetas más Cercanos al Sol\n",
    "\n",
    "print(f\"Planetas más cercanos al sol que {PlanetaBusc}: {Planets[:Answer]}.\")"
   ]
  },
  {
   "cell_type": "code",
   "execution_count": 13,
   "metadata": {},
   "outputs": [
    {
     "name": "stdout",
     "output_type": "stream",
     "text": [
      "Planetas más lejanos del sol que Venus: ['Earth', 'Mars', 'Jupiter', 'Saturn', 'Uranus', 'Neptune'].\n"
     ]
    }
   ],
   "source": [
    "# Muestra los Planetas más Lejanos al Sol\n",
    "\n",
    "print(f\"Planetas más lejanos del sol que {PlanetaBusc}: {Planets[Answer+1:]}.\")"
   ]
  }
 ],
 "metadata": {
  "interpreter": {
   "hash": "f09ecc6bc7a1d873317013dce4d029e38d9bae658824941d819d3d76f786f9e7"
  },
  "kernelspec": {
   "display_name": "Python 3.10.2 64-bit",
   "language": "python",
   "name": "python3"
  },
  "language_info": {
   "codemirror_mode": {
    "name": "ipython",
    "version": 3
   },
   "file_extension": ".py",
   "mimetype": "text/x-python",
   "name": "python",
   "nbconvert_exporter": "python",
   "pygments_lexer": "ipython3",
   "version": "3.10.2"
  },
  "orig_nbformat": 4
 },
 "nbformat": 4,
 "nbformat_minor": 2
}
