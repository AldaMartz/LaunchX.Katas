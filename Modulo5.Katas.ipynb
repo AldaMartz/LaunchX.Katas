{
 "cells": [
  {
   "cell_type": "markdown",
   "metadata": {},
   "source": [
    "## Ejercicio 1. Utilizar Operadores Matemáticos.\n",
    "Exploremos cómo podemos crear un programa que pueda calcular la distancia entre dos planetas. Comenzaremos usando dos distancias de planetas: Tierra (149.597.870 km) y Júpiter (778.547.200 km)."
   ]
  },
  {
   "cell_type": "code",
   "execution_count": 4,
   "metadata": {},
   "outputs": [],
   "source": [
    "# Crear Variables\n",
    "\n",
    "Planet1 = 149597870\n",
    "Planet2 = 778547200"
   ]
  },
  {
   "cell_type": "code",
   "execution_count": 6,
   "metadata": {},
   "outputs": [
    {
     "name": "stdout",
     "output_type": "stream",
     "text": [
      "390577533.93\n"
     ]
    }
   ],
   "source": [
    "# Calcular la Distancia Entre los Planetas\n",
    "\n",
    "AnswerKms = Planet2 - Planet1\n",
    "AnswerMillas = AnswerKms * 0.621\n",
    "print(AnswerMillas)"
   ]
  },
  {
   "cell_type": "markdown",
   "metadata": {},
   "source": [
    "## Ejercicio 2. Convierte Cadenas en Números y Usa Valores Absolutos."
   ]
  },
  {
   "cell_type": "code",
   "execution_count": 8,
   "metadata": {},
   "outputs": [],
   "source": [
    "# Almacenar las entradas del usuario\n",
    "\n",
    "Planet1 = input(\"Ingrese la distancia del 1er Planeta (en kms): \")\n",
    "Planet2 = input(\"Ingrese la distancia del 2do Planeta (en kms): \")"
   ]
  },
  {
   "cell_type": "code",
   "execution_count": 9,
   "metadata": {},
   "outputs": [],
   "source": [
    "# Convierte las cadenas de ambos planetas a números enteros\n",
    "\n",
    "Planet1 = int(Planet1)\n",
    "Planet2 = int(Planet2)"
   ]
  },
  {
   "cell_type": "code",
   "execution_count": 17,
   "metadata": {},
   "outputs": [
    {
     "name": "stdout",
     "output_type": "stream",
     "text": [
      "La distancia en kms es: 1622600000\n",
      "La distancia en Millas es: 1007634600.0\n"
     ]
    }
   ],
   "source": [
    "# Realizar el cálculo y determinar el valor absoluto\n",
    "\n",
    "Distancekm = abs(Planet2 - Planet1)\n",
    "print(f\"La distancia en kms es: {Distancekm}\" )\n",
    "\n",
    "# Convertir de KM a Millas\n",
    "\n",
    "DistanceMillas = Distancekm*0.621\n",
    "print(f\"La distancia en Millas es: {abs(DistanceMillas)}\")"
   ]
  }
 ],
 "metadata": {
  "interpreter": {
   "hash": "f09ecc6bc7a1d873317013dce4d029e38d9bae658824941d819d3d76f786f9e7"
  },
  "kernelspec": {
   "display_name": "Python 3.10.2 64-bit",
   "language": "python",
   "name": "python3"
  },
  "language_info": {
   "codemirror_mode": {
    "name": "ipython",
    "version": 3
   },
   "file_extension": ".py",
   "mimetype": "text/x-python",
   "name": "python",
   "nbconvert_exporter": "python",
   "pygments_lexer": "ipython3",
   "version": "3.10.2"
  },
  "orig_nbformat": 4
 },
 "nbformat": 4,
 "nbformat_minor": 2
}
